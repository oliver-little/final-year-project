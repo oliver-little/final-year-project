{
 "cells": [
  {
   "cell_type": "code",
   "execution_count": 1,
   "metadata": {},
   "outputs": [],
   "source": [
    "# Autoreloading\n",
    "%load_ext autoreload\n",
    "%autoreload 2"
   ]
  },
  {
   "cell_type": "code",
   "execution_count": 1,
   "metadata": {},
   "outputs": [],
   "source": [
    "# Imports\n",
    "from cluster_client.manager import ClusterManager\n",
    "from cluster_client.model.field_expressions import *\n",
    "from cluster_client.model.aggregate_expressions import *\n",
    "from cluster_client.upload.cassandra import *\n",
    "from cluster_client.connector.cassandra import CassandraConnector\n",
    "from cluster_client.test_data.generate_test_loan_data import loan_amortisation_generator, loan_amortisation_metadata, loan_origination_generator, loan_origination_metadata"
   ]
  },
  {
   "cell_type": "code",
   "execution_count": null,
   "metadata": {},
   "outputs": [],
   "source": [
    "# Upload\n",
    "connector = CassandraConnector(\"localhost\", 9042)\n",
    "upload_handler = CassandraUploadHandler(connector)\n",
    "upload_handler.create_from_csv(r\"D:\\uni\\Y4S1\\Project\\forex.csv\", \"test\", \"forex_table\", [\"slug\"], [\"date\"])"
   ]
  },
  {
   "cell_type": "code",
   "execution_count": null,
   "metadata": {},
   "outputs": [],
   "source": [
    "# Upload from iterator\n",
    "connector = CassandraConnector(\"localhost\", 9042)\n",
    "upload_handler = CassandraUploadHandler(connector)\n",
    "(column_names, column_types) = loan_origination_metadata()\n",
    "upload_handler.drop_table(\"origination\", \"data\").create_from_iterator(loan_origination_generator(1000), \"origination\", \"data\", column_names, column_types, [\"loan_id\"])"
   ]
  },
  {
   "cell_type": "code",
   "execution_count": 2,
   "metadata": {},
   "outputs": [],
   "source": [
    "# Setup cluster manager\n",
    "CLUSTER_ADDRESS = \"localhost\"\n",
    "manager = ClusterManager(CLUSTER_ADDRESS)"
   ]
  },
  {
   "cell_type": "code",
   "execution_count": null,
   "metadata": {},
   "outputs": [],
   "source": [
    "# Original Table\n",
    "result = manager.cassandra_table(\"origination\", \"data\").evaluate()\n",
    "result.get_dataframe()"
   ]
  },
  {
   "cell_type": "code",
   "execution_count": null,
   "metadata": {},
   "outputs": [],
   "source": [
    "# Select Expression\n",
    "# Syntax: .select(list, of, expressions)\n",
    "\n",
    "# Expressions:\n",
    "# - F(\"my_field\") references the field \"my_field\"\n",
    "# - V(\"value\") references the string \"value\"\n",
    "# - String Operations:\n",
    "#       (Function.Left(Function.ToString(F(\"origination_date\")), 9)).as_name(\"Date_string\")\n",
    "#       (Function.ToString(F(\"interest_rate\") * 100) + \"%\").as_name(\"%_interest_rate\")\n",
    "# - Arithmetic operations:\n",
    "#       F(\"duration\") + V(2)\n",
    "#       F(\"interest_rate\") * V(2)\n",
    "\n",
    "select = manager.cassandra_table(\"origination\", \"data\").select(\n",
    "    F(\"Loan_ID\"),\n",
    "    Function.Left(Function.ToString(F(\"origination_date\")), 10).as_name(\"date_string\"), \n",
    "    (Function.ToString(F(\"interest_rate\") * 100) + \"%\").as_name(\"%_interest_rate\")\n",
    ").evaluate()\n",
    "select.get_dataframe()"
   ]
  },
  {
   "cell_type": "code",
   "execution_count": null,
   "metadata": {},
   "outputs": [],
   "source": [
    "# Filter Expression\n",
    "# Syntax: .filter(single_expression)\n",
    "\n",
    "# Comparisons:\n",
    "# - Single comparisons:\n",
    "#       Numeric: < > >= <=\n",
    "#       Equality: ==, !=\n",
    "#       String Operations: .contains(), .starts_with(), .ends_with() (and case insensitive versions)\n",
    "#       Null checks: .is_null(), .is_not_null()\n",
    "# - Combining comparisons (with AND/OR):\n",
    "#       (Comparison) & (Comparison) (NOTE: brackets are required)\n",
    "#       (Comparison) | (Comparison)\n",
    "\n",
    "filter = manager.cassandra_table(\"origination\", \"data\").filter((Function.Left(Function.ToString(F(\"origination_date\")), 10).contains(\"2021-11-\")) & (F(\"duration\") > 26)).evaluate()\n",
    "filter.get_dataframe()"
   ]
  },
  {
   "cell_type": "code",
   "execution_count": null,
   "metadata": {},
   "outputs": [],
   "source": [
    "# Group By Expression\n",
    "# Syntax: .group_by([group, by, expressions]) OR\n",
    "#         .group_by([group, by, expressions], [aggregate, expressions])\n",
    "\n",
    "# Aggregate Expressions:\n",
    "# - Max, Min, Sum, Avg, Count, Distinct Count, String Concat, Distinct String Concat\n",
    "\n",
    "group_by = manager.cassandra_table(\"origination\", \"data\").group_by([F(\"duration\")], [Max(F(\"origination_date\"))]).evaluate()\n",
    "group_by.get_dataframe()"
   ]
  }
 ],
 "metadata": {
  "kernelspec": {
   "display_name": "Python 3",
   "language": "python",
   "name": "python3"
  },
  "language_info": {
   "codemirror_mode": {
    "name": "ipython",
    "version": 3
   },
   "file_extension": ".py",
   "mimetype": "text/x-python",
   "name": "python",
   "nbconvert_exporter": "python",
   "pygments_lexer": "ipython3",
   "version": "3.11.0"
  },
  "orig_nbformat": 4,
  "vscode": {
   "interpreter": {
    "hash": "c261aea317cc0286b3b3261fbba9abdec21eaa57589985bb7a274bf54d6cc0a7"
   }
  }
 },
 "nbformat": 4,
 "nbformat_minor": 2
}
