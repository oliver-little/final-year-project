{
 "cells": [
  {
   "cell_type": "code",
   "execution_count": 1,
   "metadata": {},
   "outputs": [],
   "source": [
    "# Autoreloading\n",
    "%load_ext autoreload\n",
    "%autoreload 2"
   ]
  },
  {
   "cell_type": "code",
   "execution_count": 1,
   "metadata": {},
   "outputs": [],
   "source": [
    "# Imports\n",
    "from cluster_client.manager import ClusterManager\n",
    "from cluster_client.model.field_expressions import *\n",
    "from cluster_client.model.aggregate_expressions import *\n",
    "from cluster_client.upload.cassandra import *\n",
    "from cluster_client.connector.cassandra import CassandraConnector\n",
    "from cluster_client.test_data.generate_test_loan_data import loan_amortisation_generator, loan_amortisation_metadata, loan_origination_generator, loan_origination_metadata\n",
    "from tqdm import tqdm"
   ]
  },
  {
   "cell_type": "code",
   "execution_count": null,
   "metadata": {},
   "outputs": [],
   "source": [
    "# Upload\n",
    "connector = CassandraConnector(\"localhost\", 9042)\n",
    "upload_handler = CassandraUploadHandler(connector)\n",
    "upload_handler.create_from_csv(r\"D:\\uni\\Y4S1\\Project\\forex.csv\", \"test\", \"forex_table\", [\"slug\"], [\"date\"])"
   ]
  },
  {
   "cell_type": "code",
   "execution_count": null,
   "metadata": {},
   "outputs": [],
   "source": [
    "# Upload from iterator\n",
    "connector = CassandraConnector(\"localhost\", 9042)\n",
    "upload_handler = CassandraUploadHandler(connector)\n",
    "(column_names, column_types) = loan_origination_metadata()\n",
    "upload_handler.drop_table(\"origination\", \"data_1000\").create_from_iterator(tqdm(loan_origination_generator(1000)), \"origination\", \"data_1000\", column_names, column_types, [\"loan_id\"])"
   ]
  },
  {
   "cell_type": "code",
   "execution_count": 3,
   "metadata": {},
   "outputs": [],
   "source": [
    "# Setup cluster manager\n",
    "CLUSTER_ADDRESS = \"localhost\"\n",
    "manager = ClusterManager(CLUSTER_ADDRESS)"
   ]
  },
  {
   "cell_type": "code",
   "execution_count": 4,
   "metadata": {},
   "outputs": [],
   "source": [
    "select = manager.cassandra_table(\"test\", \"forex_table\").filter(F(\"slug\") == V(\"GBP/INR\")).evaluate()"
   ]
  },
  {
   "cell_type": "code",
   "execution_count": 20,
   "metadata": {},
   "outputs": [],
   "source": [
    "group_by = manager.cassandra_table(\"test\", \"forex_table\").group_by([F(\"slug\")], [Avg(F(\"high\"))]).evaluate()"
   ]
  },
  {
   "cell_type": "code",
   "execution_count": null,
   "metadata": {},
   "outputs": [],
   "source": [
    "result_df = group_by.get_dataframe()\n",
    "print(result_df)"
   ]
  }
 ],
 "metadata": {
  "kernelspec": {
   "display_name": "Python 3",
   "language": "python",
   "name": "python3"
  },
  "language_info": {
   "codemirror_mode": {
    "name": "ipython",
    "version": 3
   },
   "file_extension": ".py",
   "mimetype": "text/x-python",
   "name": "python",
   "nbconvert_exporter": "python",
   "pygments_lexer": "ipython3",
   "version": "3.11.1"
  },
  "orig_nbformat": 4,
  "vscode": {
   "interpreter": {
    "hash": "bee10e99cb8bc276bfb9511b22ebae5a42ed4a093b0c1a3972944095d931d516"
   }
  }
 },
 "nbformat": 4,
 "nbformat_minor": 2
}
