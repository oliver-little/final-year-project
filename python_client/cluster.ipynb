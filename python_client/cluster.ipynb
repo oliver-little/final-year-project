{
 "cells": [
  {
   "cell_type": "code",
   "execution_count": 1,
   "metadata": {},
   "outputs": [],
   "source": [
    "# Imports\n",
    "from cluster_client.manager import ClusterManager\n",
    "from cluster_client.model.field_expressions import *\n",
    "from cluster_client.model.aggregate_expressions import *\n",
    "from cluster_client.upload.cassandra import *"
   ]
  },
  {
   "cell_type": "code",
   "execution_count": 2,
   "metadata": {},
   "outputs": [],
   "source": [
    "# Setup cluster manager\n",
    "CLUSTER_ADDRESS = \"localhost\"\n",
    "manager = ClusterManager(CLUSTER_ADDRESS)\n",
    "table = manager.cassandra_table(\"test\", \"forex_table\")"
   ]
  },
  {
   "cell_type": "code",
   "execution_count": 9,
   "metadata": {},
   "outputs": [
    {
     "name": "stdout",
     "output_type": "stream",
     "text": [
      "<cluster_client.model.data_source.CassandraDataSource object at 0x000002081C357F50>\n"
     ]
    }
   ],
   "source": [
    "#results = table.evaluate()\n",
    "#len(results.get_rows_protobuf())"
   ]
  },
  {
   "cell_type": "code",
   "execution_count": 10,
   "metadata": {},
   "outputs": [
    {
     "name": "stdout",
     "output_type": "stream",
     "text": [
      "[values {\n",
      "  string: \"EUR/SZL\"\n",
      "}\n",
      "values {\n",
      "  double: 20.6621\n",
      "}\n",
      ", values {\n",
      "  string: \"GBP/EGP\"\n",
      "}\n",
      "values {\n",
      "  double: 25.448999\n",
      "}\n",
      ", values {\n",
      "  string: \"GBP/NOK\"\n",
      "}\n",
      "values {\n",
      "  double: 13.986855\n",
      "}\n",
      ", values {\n",
      "  string: \"CHF/JPY\"\n",
      "}\n",
      "values {\n",
      "  double: 105.050003\n",
      "}\n",
      ", values {\n",
      "  string: \"GBP/SCR\"\n",
      "}\n",
      "values {\n",
      "  double: 29.113564\n",
      "}\n",
      ", values {\n",
      "  string: \"GBP/XOF\"\n",
      "}\n",
      "values {\n",
      "  double: 942.669983\n",
      "}\n",
      ", values {\n",
      "  string: \"CHF/NZD\"\n",
      "}\n",
      "values {\n",
      "  double: 1.88382\n",
      "}\n",
      ", values {\n",
      "  string: \"EUR/PKR\"\n",
      "}\n",
      "values {\n",
      "  double: 12020\n",
      "}\n",
      ", values {\n",
      "  string: \"AUD/MYR\"\n",
      "}\n",
      "values {\n",
      "  double: 3.4465\n",
      "}\n",
      ", values {\n",
      "  string: \"GBP/IDR\"\n",
      "}\n",
      "values {\n",
      "  double: 20276\n",
      "}\n",
      ", values {\n",
      "  string: \"EUR/FJD\"\n",
      "}\n",
      "values {\n",
      "  double: 2.948\n",
      "}\n",
      ", values {\n",
      "  string: \"USD/ZMW\"\n",
      "}\n",
      "values {\n",
      "  double: 22.775122\n",
      "}\n",
      ", values {\n",
      "  string: \"JPY/CHF\"\n",
      "}\n",
      "values {\n",
      "  double: 1.3243\n",
      "}\n",
      ", values {\n",
      "  string: \"AUD/CAD\"\n",
      "}\n",
      "values {\n",
      "  double: 1.0771\n",
      "}\n",
      ", values {\n",
      "  string: \"GBP/CUP\"\n",
      "}\n",
      "values {\n",
      "  double: 33.905884\n",
      "}\n",
      ", values {\n",
      "  string: \"JPY/PKR\"\n",
      "}\n",
      "values {\n",
      "  double: 1017.799988\n",
      "}\n",
      "]\n"
     ]
    }
   ],
   "source": [
    "group_by = table.group_by([F(\"slug\")], [Max(F(\"high\"))]).evaluate()\n",
    "rows = group_by.get_rows_protobuf()\n",
    "print(rows)"
   ]
  }
 ],
 "metadata": {
  "kernelspec": {
   "display_name": "Python 3",
   "language": "python",
   "name": "python3"
  },
  "language_info": {
   "codemirror_mode": {
    "name": "ipython",
    "version": 3
   },
   "file_extension": ".py",
   "mimetype": "text/x-python",
   "name": "python",
   "nbconvert_exporter": "python",
   "pygments_lexer": "ipython3",
   "version": "3.11.0"
  },
  "orig_nbformat": 4,
  "vscode": {
   "interpreter": {
    "hash": "c261aea317cc0286b3b3261fbba9abdec21eaa57589985bb7a274bf54d6cc0a7"
   }
  }
 },
 "nbformat": 4,
 "nbformat_minor": 2
}
