{
 "cells": [
  {
   "cell_type": "code",
   "execution_count": null,
   "metadata": {},
   "outputs": [],
   "source": [
    "# Autoreloading\n",
    "%load_ext autoreload\n",
    "%autoreload 2"
   ]
  },
  {
   "cell_type": "code",
   "execution_count": 34,
   "metadata": {},
   "outputs": [
    {
     "name": "stdout",
     "output_type": "stream",
     "text": [
      "The autoreload extension is already loaded. To reload it, use:\n",
      "  %reload_ext autoreload\n"
     ]
    }
   ],
   "source": [
    "# Imports\n",
    "from cluster_client.manager import ClusterManager\n",
    "from cluster_client.model.field_expressions import *\n",
    "from cluster_client.model.aggregate_expressions import *\n",
    "from cluster_client.upload.cassandra import *"
   ]
  },
  {
   "cell_type": "code",
   "execution_count": 2,
   "metadata": {},
   "outputs": [],
   "source": [
    "# Setup cluster manager\n",
    "CLUSTER_ADDRESS = \"localhost\"\n",
    "manager = ClusterManager(CLUSTER_ADDRESS)"
   ]
  },
  {
   "cell_type": "code",
   "execution_count": 12,
   "metadata": {},
   "outputs": [],
   "source": [
    "group_by = manager.cassandra_table(\"test\", \"forex_table\").group_by([F(\"slug\")], [Max(F(\"high\"))]).evaluate()"
   ]
  },
  {
   "cell_type": "code",
   "execution_count": 33,
   "metadata": {},
   "outputs": [
    {
     "ename": "IndexError",
     "evalue": "list index out of range",
     "output_type": "error",
     "traceback": [
      "\u001b[1;31m---------------------------------------------------------------------------\u001b[0m",
      "\u001b[1;31mIndexError\u001b[0m                                Traceback (most recent call last)",
      "Cell \u001b[1;32mIn[33], line 1\u001b[0m\n\u001b[1;32m----> 1\u001b[0m result_df \u001b[39m=\u001b[39m group_by\u001b[39m.\u001b[39;49mget_dataframe()\n",
      "File \u001b[1;32md:\\uni\\Y4S1\\Project\\final-year-project\\python_client\\cluster_client\\model\\result_builder.py:25\u001b[0m, in \u001b[0;36mStreamedTableResultBuilder.get_dataframe\u001b[1;34m(self)\u001b[0m\n\u001b[0;32m     24\u001b[0m \u001b[39mdef\u001b[39;00m \u001b[39mget_dataframe\u001b[39m(\u001b[39mself\u001b[39m):\n\u001b[1;32m---> 25\u001b[0m     \u001b[39mreturn\u001b[39;00m pd\u001b[39m.\u001b[39mDataFrame(\u001b[39mself\u001b[39;49m\u001b[39m.\u001b[39;49mget_column_series())\n",
      "File \u001b[1;32md:\\uni\\Y4S1\\Project\\final-year-project\\python_client\\cluster_client\\model\\result_builder.py:39\u001b[0m, in \u001b[0;36mStreamedTableResultBuilder.get_column_series\u001b[1;34m(self)\u001b[0m\n\u001b[0;32m     37\u001b[0m             columnar_data[index]\u001b[39m.\u001b[39mappend(\u001b[39mNone\u001b[39;00m)\n\u001b[0;32m     38\u001b[0m         \u001b[39melse\u001b[39;00m:\n\u001b[1;32m---> 39\u001b[0m             columnar_data[index]\u001b[39m.\u001b[39mappend(\u001b[39mgetattr\u001b[39m(value, instance))\n\u001b[0;32m     41\u001b[0m output \u001b[39m=\u001b[39m {}\n\u001b[0;32m     43\u001b[0m \u001b[39mfor\u001b[39;00m index, header \u001b[39min\u001b[39;00m \u001b[39menumerate\u001b[39m(\u001b[39mself\u001b[39m\u001b[39m.\u001b[39mheader\u001b[39m.\u001b[39mfields):\n",
      "\u001b[1;31mIndexError\u001b[0m: list index out of range"
     ]
    }
   ],
   "source": [
    "result_df = group_by.get_dataframe()"
   ]
  }
 ],
 "metadata": {
  "kernelspec": {
   "display_name": "Python 3",
   "language": "python",
   "name": "python3"
  },
  "language_info": {
   "codemirror_mode": {
    "name": "ipython",
    "version": 3
   },
   "file_extension": ".py",
   "mimetype": "text/x-python",
   "name": "python",
   "nbconvert_exporter": "python",
   "pygments_lexer": "ipython3",
   "version": "3.11.1"
  },
  "orig_nbformat": 4,
  "vscode": {
   "interpreter": {
    "hash": "bee10e99cb8bc276bfb9511b22ebae5a42ed4a093b0c1a3972944095d931d516"
   }
  }
 },
 "nbformat": 4,
 "nbformat_minor": 2
}
